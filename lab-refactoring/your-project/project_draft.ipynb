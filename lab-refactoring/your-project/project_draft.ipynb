{
 "cells": [
  {
   "cell_type": "code",
   "execution_count": 1,
   "metadata": {},
   "outputs": [],
   "source": [
    "import string"
   ]
  },
  {
   "cell_type": "code",
   "execution_count": null,
   "metadata": {},
   "outputs": [],
   "source": [
    "characters = [letter for letter in string.ascii_letters+string.digits+string.punctuation+' ']"
   ]
  },
  {
   "cell_type": "code",
   "execution_count": 3,
   "metadata": {},
   "outputs": [
    {
     "name": "stdout",
     "output_type": "stream",
     "text": [
      "Write down a message to encrypt or decrypt: \n",
      "Pyvuohjrg!$g\"9\n",
      "\n",
      "Select the number of jumps you wish to apply: \n",
      "-7\n",
      "\n",
      "Encrypting <Pyvuohjrg!$g\"9> with <-7> jumps. \n",
      "\n",
      "Resulting message: \n",
      "Ironhack 36 42 \n",
      "\n"
     ]
    }
   ],
   "source": [
    "message = input('Write down a message to encrypt or decrypt: \\n')\n",
    "\n",
    "ch_indexed = []\n",
    "for i in message:\n",
    "     ch_indexed.append(characters.index(i))\n",
    "\n",
    "jumps = int(input('\\nSelect the number of jumps you wish to apply: \\n'))\n",
    "print(f'\\nEncrypting <{message}> with <{jumps}> jumps. \\n')\n",
    "\n",
    "coded_index = []\n",
    "for i in ch_indexed:\n",
    "    if 0 >= jumps >= -95:\n",
    "        coded_index.append(i+jumps)\n",
    "    if 0 < jumps <= 94:\n",
    "        lessjumps = jumps-95\n",
    "        coded_index.append(i+lessjumps)\n",
    "    if 94 < jumps:\n",
    "        modjumps = (jumps%95)-95\n",
    "        coded_index.append(i+modjumps)\n",
    "    if jumps < -95:\n",
    "        negmodjumps = (-1)*(((-1)*jumps)%95)\n",
    "        coded_index.append(i+negmodjumps)\n",
    "\n",
    "coded_message_list = []\n",
    "for i in coded_index:\n",
    "    coded_message_list.append(characters[i])\n",
    "\n",
    "coded_message = ''.join(coded_message_list)\n",
    "print(f'Resulting message: \\n{coded_message} \\n')"
   ]
  },
  {
   "cell_type": "code",
   "execution_count": 4,
   "metadata": {},
   "outputs": [
    {
     "name": "stdout",
     "output_type": "stream",
     "text": [
      "Number to hide: 456\n",
      "May your number in disguise be:  210671\n"
     ]
    }
   ],
   "source": [
    "#Essay: Number encrypter\n",
    "\n",
    "original_number = int(input('Number to hide: '))\n",
    "\n",
    "def masker():\n",
    "    masked = (original_number + 3)**2-10\n",
    "    print('May your number in disguise be: ',masked)\n",
    "\n",
    "masker()"
   ]
  },
  {
   "cell_type": "code",
   "execution_count": 5,
   "metadata": {},
   "outputs": [
    {
     "name": "stdout",
     "output_type": "stream",
     "text": [
      "The number you want to unmask is: 210671\n",
      "Your number has been revealed:  456.0\n"
     ]
    }
   ],
   "source": [
    "#Essay: Number de-encrypter\n",
    "\n",
    "masked_number = int(input('The number you want to unmask is: '))\n",
    "\n",
    "def unmasker():\n",
    "    unmasked = (masked_number+10)**(1/2)-3\n",
    "    print('Your number has been revealed: ',unmasked)\n",
    "\n",
    "unmasker()"
   ]
  }
 ],
 "metadata": {
  "kernelspec": {
   "display_name": "Python 3",
   "language": "python",
   "name": "python3"
  },
  "language_info": {
   "codemirror_mode": {
    "name": "ipython",
    "version": 3
   },
   "file_extension": ".py",
   "mimetype": "text/x-python",
   "name": "python",
   "nbconvert_exporter": "python",
   "pygments_lexer": "ipython3",
   "version": "3.7.4"
  }
 },
 "nbformat": 4,
 "nbformat_minor": 2
}
